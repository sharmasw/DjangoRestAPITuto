{
 "cells": [
  {
   "cell_type": "code",
   "execution_count": 1,
   "metadata": {},
   "outputs": [],
   "source": [
    "import json,requests\n",
    "url='http://localhost:8000/'"
   ]
  },
  {
   "cell_type": "code",
   "execution_count": 2,
   "metadata": {},
   "outputs": [
    {
     "data": {
      "text/plain": [
       "'{\"a\": \"a\"}'"
      ]
     },
     "execution_count": 2,
     "metadata": {},
     "output_type": "execute_result"
    }
   ],
   "source": [
    "tt1=requests.get(url+'index')\n",
    "tt1.text"
   ]
  },
  {
   "cell_type": "code",
   "execution_count": 3,
   "metadata": {},
   "outputs": [
    {
     "data": {
      "text/plain": [
       "'{\"b\": \"b\"}'"
      ]
     },
     "execution_count": 3,
     "metadata": {},
     "output_type": "execute_result"
    }
   ],
   "source": [
    "tt1=requests.post(url+'postINdex')\n",
    "tt1.text"
   ]
  },
  {
   "cell_type": "code",
   "execution_count": 4,
   "metadata": {},
   "outputs": [
    {
     "data": {
      "text/plain": [
       "''"
      ]
     },
     "execution_count": 4,
     "metadata": {},
     "output_type": "execute_result"
    }
   ],
   "source": [
    "tt1=requests.put(url+'postINdex')\n",
    "tt1.text"
   ]
  },
  {
   "cell_type": "code",
   "execution_count": 5,
   "metadata": {},
   "outputs": [
    {
     "data": {
      "text/plain": [
       "'<!DOCTYPE html>\\n<html lang=\"en\">\\n<head>\\n  <meta http-equiv=\"content-type\" content=\"text/html; charset=utf-8\">\\n  <title>Page not found at /classINdex</title>\\n  <meta name=\"robots\" content=\"NONE,NOARCHIVE\">\\n  <style type=\"text/css\">\\n    html * { padding:0; margin:0; }\\n    body * { padding:10px 20px; }\\n    body * * { padding:0; }\\n    body { font:small sans-serif; background:#eee; color:#000; }\\n    body>div { border-bottom:1px solid #ddd; }\\n    h1 { font-weight:normal; margin-bottom:.4em; }\\n    h1 span { font-size:60%; color:#666; font-weight:normal; }\\n    table { border:none; border-collapse: collapse; width:100%; }\\n    td, th { vertical-align:top; padding:2px 3px; }\\n    th { width:12em; text-align:right; color:#666; padding-right:.5em; }\\n    #info { background:#f6f6f6; }\\n    #info ol { margin: 0.5em 4em; }\\n    #info ol li { font-family: monospace; }\\n    #summary { background: #ffc; }\\n    #explanation { background:#eee; border-bottom: 0px none; }\\n  </style>\\n</head>\\n<body>\\n  <div id=\"summary\">\\n    <h1>Page not found <span>(404)</span></h1>\\n    <table class=\"meta\">\\n      <tr>\\n        <th>Request Method:</th>\\n        <td>GET</td>\\n      </tr>\\n      <tr>\\n        <th>Request URL:</th>\\n        <td>http://localhost:8000/classINdex</td>\\n      </tr>\\n      \\n    </table>\\n  </div>\\n  <div id=\"info\">\\n    \\n      <p>\\n      Using the URLconf defined in <code>httpVerbs.urls</code>,\\n      Django tried these URL patterns, in this order:\\n      </p>\\n      <ol>\\n        \\n          <li>\\n            \\n                admin/\\n                \\n            \\n          </li>\\n        \\n          <li>\\n            \\n                index\\n                [name=\\'Demo index\\']\\n            \\n          </li>\\n        \\n          <li>\\n            \\n                postINdex\\n                [name=\\'Demo index\\']\\n            \\n          </li>\\n        \\n          <li>\\n            \\n                recordAll\\n                [name=\\'Demo index\\']\\n            \\n          </li>\\n        \\n          <li>\\n            \\n                record\\n                [name=\\'Demo index\\']\\n            \\n          </li>\\n        \\n          <li>\\n            \\n                record/&lt;userID&gt;\\n                [name=\\'Demo index\\']\\n            \\n          </li>\\n        \\n      </ol>\\n      <p>\\n        \\n        The current path, <code>classINdex</code>, didn\\'t match any of these.\\n      </p>\\n    \\n  </div>\\n\\n  <div id=\"explanation\">\\n    <p>\\n      You\\'re seeing this error because you have <code>DEBUG = True</code> in\\n      your Django settings file. Change that to <code>False</code>, and Django\\n      will display a standard 404 page.\\n    </p>\\n  </div>\\n</body>\\n</html>\\n'"
      ]
     },
     "execution_count": 5,
     "metadata": {},
     "output_type": "execute_result"
    }
   ],
   "source": [
    "tt1=requests.get(url+'classINdex')\n",
    "tt1.text"
   ]
  },
  {
   "cell_type": "code",
   "execution_count": 6,
   "metadata": {},
   "outputs": [
    {
     "data": {
      "text/plain": [
       "'<!DOCTYPE html>\\n<html lang=\"en\">\\n<head>\\n  <meta http-equiv=\"content-type\" content=\"text/html; charset=utf-8\">\\n  <title>Page not found at /classINdex</title>\\n  <meta name=\"robots\" content=\"NONE,NOARCHIVE\">\\n  <style type=\"text/css\">\\n    html * { padding:0; margin:0; }\\n    body * { padding:10px 20px; }\\n    body * * { padding:0; }\\n    body { font:small sans-serif; background:#eee; color:#000; }\\n    body>div { border-bottom:1px solid #ddd; }\\n    h1 { font-weight:normal; margin-bottom:.4em; }\\n    h1 span { font-size:60%; color:#666; font-weight:normal; }\\n    table { border:none; border-collapse: collapse; width:100%; }\\n    td, th { vertical-align:top; padding:2px 3px; }\\n    th { width:12em; text-align:right; color:#666; padding-right:.5em; }\\n    #info { background:#f6f6f6; }\\n    #info ol { margin: 0.5em 4em; }\\n    #info ol li { font-family: monospace; }\\n    #summary { background: #ffc; }\\n    #explanation { background:#eee; border-bottom: 0px none; }\\n  </style>\\n</head>\\n<body>\\n  <div id=\"summary\">\\n    <h1>Page not found <span>(404)</span></h1>\\n    <table class=\"meta\">\\n      <tr>\\n        <th>Request Method:</th>\\n        <td>POST</td>\\n      </tr>\\n      <tr>\\n        <th>Request URL:</th>\\n        <td>http://localhost:8000/classINdex</td>\\n      </tr>\\n      \\n    </table>\\n  </div>\\n  <div id=\"info\">\\n    \\n      <p>\\n      Using the URLconf defined in <code>httpVerbs.urls</code>,\\n      Django tried these URL patterns, in this order:\\n      </p>\\n      <ol>\\n        \\n          <li>\\n            \\n                admin/\\n                \\n            \\n          </li>\\n        \\n          <li>\\n            \\n                index\\n                [name=\\'Demo index\\']\\n            \\n          </li>\\n        \\n          <li>\\n            \\n                postINdex\\n                [name=\\'Demo index\\']\\n            \\n          </li>\\n        \\n          <li>\\n            \\n                recordAll\\n                [name=\\'Demo index\\']\\n            \\n          </li>\\n        \\n          <li>\\n            \\n                record\\n                [name=\\'Demo index\\']\\n            \\n          </li>\\n        \\n          <li>\\n            \\n                record/&lt;userID&gt;\\n                [name=\\'Demo index\\']\\n            \\n          </li>\\n        \\n      </ol>\\n      <p>\\n        \\n        The current path, <code>classINdex</code>, didn\\'t match any of these.\\n      </p>\\n    \\n  </div>\\n\\n  <div id=\"explanation\">\\n    <p>\\n      You\\'re seeing this error because you have <code>DEBUG = True</code> in\\n      your Django settings file. Change that to <code>False</code>, and Django\\n      will display a standard 404 page.\\n    </p>\\n  </div>\\n</body>\\n</html>\\n'"
      ]
     },
     "execution_count": 6,
     "metadata": {},
     "output_type": "execute_result"
    }
   ],
   "source": [
    "tt1=requests.post(url+'classINdex')\n",
    "tt1.text"
   ]
  },
  {
   "cell_type": "markdown",
   "metadata": {},
   "source": [
    "# GET"
   ]
  },
  {
   "cell_type": "code",
   "execution_count": 7,
   "metadata": {},
   "outputs": [
    {
     "data": {
      "text/plain": [
       "'{}'"
      ]
     },
     "execution_count": 7,
     "metadata": {},
     "output_type": "execute_result"
    }
   ],
   "source": [
    "tt1=requests.get(url+'recordAll')\n",
    "tt1.text"
   ]
  },
  {
   "cell_type": "code",
   "execution_count": 8,
   "metadata": {},
   "outputs": [
    {
     "data": {
      "text/plain": [
       "'{\"result\": \"Added comment of user user1\"}'"
      ]
     },
     "execution_count": 8,
     "metadata": {},
     "output_type": "execute_result"
    }
   ],
   "source": [
    "tt1=requests.post(url+'record',data={'userID':'user1','comments':'Hi There!'})\n",
    "tt1.text"
   ]
  },
  {
   "cell_type": "code",
   "execution_count": 9,
   "metadata": {},
   "outputs": [
    {
     "data": {
      "text/plain": [
       "'{\"result\": \"Hi There!\"}'"
      ]
     },
     "execution_count": 9,
     "metadata": {},
     "output_type": "execute_result"
    }
   ],
   "source": [
    "tt1=requests.get(url+'record/'+'user1')\n",
    "tt1.text"
   ]
  },
  {
   "cell_type": "code",
   "execution_count": 10,
   "metadata": {},
   "outputs": [
    {
     "data": {
      "text/plain": [
       "'{\"result\": \"Added comment of user user1\"}'"
      ]
     },
     "execution_count": 10,
     "metadata": {},
     "output_type": "execute_result"
    }
   ],
   "source": [
    "tt1=requests.put(url+'record/'+'user1',json={'comments':'Updated comments'})\n",
    "tt1.text"
   ]
  },
  {
   "cell_type": "code",
   "execution_count": 11,
   "metadata": {},
   "outputs": [
    {
     "data": {
      "text/plain": [
       "'{\"result\": \"Updated comments\"}'"
      ]
     },
     "execution_count": 11,
     "metadata": {},
     "output_type": "execute_result"
    }
   ],
   "source": [
    "tt1=requests.get(url+'record/'+'user1')\n",
    "tt1.text"
   ]
  },
  {
   "cell_type": "code",
   "execution_count": null,
   "metadata": {},
   "outputs": [],
   "source": []
  },
  {
   "cell_type": "code",
   "execution_count": null,
   "metadata": {},
   "outputs": [],
   "source": []
  },
  {
   "cell_type": "code",
   "execution_count": null,
   "metadata": {},
   "outputs": [],
   "source": []
  },
  {
   "cell_type": "code",
   "execution_count": null,
   "metadata": {},
   "outputs": [],
   "source": []
  },
  {
   "cell_type": "code",
   "execution_count": null,
   "metadata": {},
   "outputs": [],
   "source": []
  },
  {
   "cell_type": "code",
   "execution_count": null,
   "metadata": {},
   "outputs": [],
   "source": []
  },
  {
   "cell_type": "code",
   "execution_count": null,
   "metadata": {},
   "outputs": [],
   "source": []
  },
  {
   "cell_type": "code",
   "execution_count": null,
   "metadata": {},
   "outputs": [],
   "source": []
  },
  {
   "cell_type": "code",
   "execution_count": null,
   "metadata": {},
   "outputs": [],
   "source": []
  },
  {
   "cell_type": "code",
   "execution_count": null,
   "metadata": {},
   "outputs": [],
   "source": []
  },
  {
   "cell_type": "code",
   "execution_count": null,
   "metadata": {},
   "outputs": [],
   "source": []
  },
  {
   "cell_type": "code",
   "execution_count": null,
   "metadata": {},
   "outputs": [],
   "source": []
  },
  {
   "cell_type": "code",
   "execution_count": null,
   "metadata": {},
   "outputs": [],
   "source": []
  },
  {
   "cell_type": "code",
   "execution_count": null,
   "metadata": {},
   "outputs": [],
   "source": []
  },
  {
   "cell_type": "code",
   "execution_count": null,
   "metadata": {},
   "outputs": [],
   "source": []
  },
  {
   "cell_type": "code",
   "execution_count": null,
   "metadata": {},
   "outputs": [],
   "source": []
  },
  {
   "cell_type": "code",
   "execution_count": null,
   "metadata": {},
   "outputs": [],
   "source": []
  },
  {
   "cell_type": "code",
   "execution_count": null,
   "metadata": {},
   "outputs": [],
   "source": []
  },
  {
   "cell_type": "code",
   "execution_count": null,
   "metadata": {},
   "outputs": [],
   "source": [
    "tt2=requests.post(url+'someMethod')\n",
    "tt2.text"
   ]
  },
  {
   "cell_type": "code",
   "execution_count": null,
   "metadata": {},
   "outputs": [],
   "source": [
    "requests.put(url+'someMethod')"
   ]
  },
  {
   "cell_type": "markdown",
   "metadata": {},
   "source": [
    "# POST"
   ]
  },
  {
   "cell_type": "code",
   "execution_count": null,
   "metadata": {},
   "outputs": [],
   "source": [
    "kk=requests.post(url+'addNewRecord',data={'idUser':'uA','someInfo':'hello Worlds'})\n",
    "kk.text"
   ]
  },
  {
   "cell_type": "markdown",
   "metadata": {},
   "source": [
    "# GET"
   ]
  },
  {
   "cell_type": "code",
   "execution_count": null,
   "metadata": {},
   "outputs": [],
   "source": [
    "kk1=requests.get(url+'getAlldata')\n",
    "kk1.text"
   ]
  },
  {
   "cell_type": "code",
   "execution_count": null,
   "metadata": {},
   "outputs": [],
   "source": [
    "kk1=requests.get(url+'addNewRecord/uA')\n",
    "kk1.text"
   ]
  },
  {
   "cell_type": "markdown",
   "metadata": {},
   "source": [
    "## PUT"
   ]
  },
  {
   "cell_type": "code",
   "execution_count": null,
   "metadata": {
    "scrolled": true
   },
   "outputs": [],
   "source": [
    "kk1=requests.put(url+'addNewRecord/uA',json={'someInfo':'new world!'})\n",
    "kk1.text"
   ]
  },
  {
   "cell_type": "code",
   "execution_count": null,
   "metadata": {},
   "outputs": [],
   "source": [
    "kk1=requests.get(url+'addNewRecord/uA')\n",
    "kk1.text"
   ]
  },
  {
   "cell_type": "code",
   "execution_count": null,
   "metadata": {},
   "outputs": [],
   "source": [
    "kk1=requests.get(url+'getAlldata')\n",
    "kk1.text"
   ]
  },
  {
   "cell_type": "markdown",
   "metadata": {},
   "source": [
    "# DELETE"
   ]
  },
  {
   "cell_type": "code",
   "execution_count": null,
   "metadata": {},
   "outputs": [],
   "source": [
    "kk1=requests.delete(url+'addNewRecord/uA')\n",
    "kk1.text"
   ]
  },
  {
   "cell_type": "code",
   "execution_count": null,
   "metadata": {},
   "outputs": [],
   "source": [
    "kk1=requests.get(url+'getAlldata')\n",
    "kk1.text"
   ]
  },
  {
   "cell_type": "code",
   "execution_count": null,
   "metadata": {},
   "outputs": [],
   "source": []
  },
  {
   "cell_type": "code",
   "execution_count": null,
   "metadata": {},
   "outputs": [],
   "source": []
  }
 ],
 "metadata": {
  "kernelspec": {
   "display_name": "Python 3",
   "language": "python",
   "name": "python3"
  },
  "language_info": {
   "codemirror_mode": {
    "name": "ipython",
    "version": 3
   },
   "file_extension": ".py",
   "mimetype": "text/x-python",
   "name": "python",
   "nbconvert_exporter": "python",
   "pygments_lexer": "ipython3",
   "version": "3.6.8"
  }
 },
 "nbformat": 4,
 "nbformat_minor": 2
}
